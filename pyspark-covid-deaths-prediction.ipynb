{
 "cells": [
  {
   "cell_type": "code",
   "execution_count": 2,
   "metadata": {},
   "outputs": [
    {
     "name": "stdout",
     "output_type": "stream",
     "text": [
      "root\n",
      " |-- id: string (nullable = true)\n",
      " |-- sex: integer (nullable = true)\n",
      " |-- patient_type: integer (nullable = true)\n",
      " |-- entry_date: string (nullable = true)\n",
      " |-- date_symptoms: string (nullable = true)\n",
      " |-- date_died: string (nullable = true)\n",
      " |-- intubed: integer (nullable = true)\n",
      " |-- pneumonia: integer (nullable = true)\n",
      " |-- age: integer (nullable = true)\n",
      " |-- pregnancy: integer (nullable = true)\n",
      " |-- diabetes: integer (nullable = true)\n",
      " |-- copd: integer (nullable = true)\n",
      " |-- asthma: integer (nullable = true)\n",
      " |-- inmsupr: integer (nullable = true)\n",
      " |-- hypertension: integer (nullable = true)\n",
      " |-- other_disease: integer (nullable = true)\n",
      " |-- cardiovascular: integer (nullable = true)\n",
      " |-- obesity: integer (nullable = true)\n",
      " |-- renal_chronic: integer (nullable = true)\n",
      " |-- tobacco: integer (nullable = true)\n",
      " |-- contact_other_covid: integer (nullable = true)\n",
      " |-- covid_res: integer (nullable = true)\n",
      " |-- icu: integer (nullable = true)\n",
      "\n"
     ]
    }
   ],
   "source": [
    "import findspark\n",
    "findspark.init()\n",
    "\n",
    "import pyspark\n",
    "from pyspark.sql import SparkSession\n",
    "spark = SparkSession.builder.getOrCreate()\n",
    "\n",
    "df=spark.read.csv('covid.csv',inferSchema=True,header=True)\n",
    "df.printSchema()"
   ]
  },
  {
   "cell_type": "code",
   "execution_count": 3,
   "metadata": {},
   "outputs": [
    {
     "name": "stdout",
     "output_type": "stream",
     "text": [
      "(566602, 23)\n"
     ]
    }
   ],
   "source": [
    "#shape of dataset\n",
    "print((df.count(),len(df.columns)))"
   ]
  },
  {
   "cell_type": "code",
   "execution_count": 4,
   "metadata": {},
   "outputs": [
    {
     "name": "stdout",
     "output_type": "stream",
     "text": [
      "+---+---+------------+----------+-------------+---------+-------+---------+---+---------+--------+----+------+-------+------------+-------------+--------------+-------+-------------+-------+-------------------+---------+---+\n",
      "| id|sex|patient_type|entry_date|date_symptoms|date_died|intubed|pneumonia|age|pregnancy|diabetes|copd|asthma|inmsupr|hypertension|other_disease|cardiovascular|obesity|renal_chronic|tobacco|contact_other_covid|covid_res|icu|\n",
      "+---+---+------------+----------+-------------+---------+-------+---------+---+---------+--------+----+------+-------+------------+-------------+--------------+-------+-------------+-------+-------------------+---------+---+\n",
      "|  0|  0|           0|         0|            0|        0|      0|        0|  0|        0|       0|   0|     0|      0|           0|            0|             0|      0|            0|      0|                  0|        0|  0|\n",
      "+---+---+------------+----------+-------------+---------+-------+---------+---+---------+--------+----+------+-------+------------+-------------+--------------+-------+-------------+-------+-------------------+---------+---+\n",
      "\n"
     ]
    }
   ],
   "source": [
    "from pyspark.sql.functions import col,isnan, when, count\n",
    "#counting null values\n",
    "df.select([count(when(isnan(c) | col(c).isNull(), c)).alias(c) for c in df.columns]).show()"
   ]
  },
  {
   "cell_type": "code",
   "execution_count": 5,
   "metadata": {},
   "outputs": [
    {
     "name": "stdout",
     "output_type": "stream",
     "text": [
      "root\n",
      " |-- id: string (nullable = true)\n",
      " |-- sex: integer (nullable = true)\n",
      " |-- patient_type: integer (nullable = true)\n",
      " |-- entry_date: string (nullable = true)\n",
      " |-- date_symptoms: string (nullable = true)\n",
      " |-- date_died: string (nullable = true)\n",
      " |-- intubed: integer (nullable = true)\n",
      " |-- pneumonia: integer (nullable = true)\n",
      " |-- age: integer (nullable = true)\n",
      " |-- pregnancy: integer (nullable = true)\n",
      " |-- diabetes: integer (nullable = true)\n",
      " |-- copd: integer (nullable = true)\n",
      " |-- asthma: integer (nullable = true)\n",
      " |-- inmsupr: integer (nullable = true)\n",
      " |-- hypertension: integer (nullable = true)\n",
      " |-- other_disease: integer (nullable = true)\n",
      " |-- cardiovascular: integer (nullable = true)\n",
      " |-- obesity: integer (nullable = true)\n",
      " |-- renal_chronic: integer (nullable = true)\n",
      " |-- tobacco: integer (nullable = true)\n",
      " |-- contact_other_covid: integer (nullable = true)\n",
      " |-- covid_res: integer (nullable = true)\n",
      " |-- icu: integer (nullable = true)\n",
      "\n"
     ]
    }
   ],
   "source": [
    "df.printSchema()"
   ]
  },
  {
   "cell_type": "code",
   "execution_count": 6,
   "metadata": {},
   "outputs": [
    {
     "data": {
      "text/html": [
       "<div>\n",
       "<style scoped>\n",
       "    .dataframe tbody tr th:only-of-type {\n",
       "        vertical-align: middle;\n",
       "    }\n",
       "\n",
       "    .dataframe tbody tr th {\n",
       "        vertical-align: top;\n",
       "    }\n",
       "\n",
       "    .dataframe thead th {\n",
       "        text-align: right;\n",
       "    }\n",
       "</style>\n",
       "<table border=\"1\" class=\"dataframe\">\n",
       "  <thead>\n",
       "    <tr style=\"text-align: right;\">\n",
       "      <th></th>\n",
       "      <th>0</th>\n",
       "      <th>1</th>\n",
       "      <th>2</th>\n",
       "      <th>3</th>\n",
       "      <th>4</th>\n",
       "    </tr>\n",
       "  </thead>\n",
       "  <tbody>\n",
       "    <tr>\n",
       "      <td>summary</td>\n",
       "      <td>count</td>\n",
       "      <td>mean</td>\n",
       "      <td>stddev</td>\n",
       "      <td>min</td>\n",
       "      <td>max</td>\n",
       "    </tr>\n",
       "    <tr>\n",
       "      <td>sex</td>\n",
       "      <td>566602</td>\n",
       "      <td>1.50672606167998</td>\n",
       "      <td>0.4999551992349244</td>\n",
       "      <td>1</td>\n",
       "      <td>2</td>\n",
       "    </tr>\n",
       "    <tr>\n",
       "      <td>patient_type</td>\n",
       "      <td>566602</td>\n",
       "      <td>1.2151651423750711</td>\n",
       "      <td>0.4109372238196795</td>\n",
       "      <td>1</td>\n",
       "      <td>2</td>\n",
       "    </tr>\n",
       "    <tr>\n",
       "      <td>intubed</td>\n",
       "      <td>566602</td>\n",
       "      <td>76.56295247810633</td>\n",
       "      <td>39.05867551766631</td>\n",
       "      <td>1</td>\n",
       "      <td>99</td>\n",
       "    </tr>\n",
       "    <tr>\n",
       "      <td>pneumonia</td>\n",
       "      <td>566602</td>\n",
       "      <td>1.846262455833195</td>\n",
       "      <td>0.5609386442720459</td>\n",
       "      <td>1</td>\n",
       "      <td>99</td>\n",
       "    </tr>\n",
       "    <tr>\n",
       "      <td>age</td>\n",
       "      <td>566602</td>\n",
       "      <td>42.62248280097847</td>\n",
       "      <td>16.659972551727172</td>\n",
       "      <td>0</td>\n",
       "      <td>120</td>\n",
       "    </tr>\n",
       "    <tr>\n",
       "      <td>pregnancy</td>\n",
       "      <td>566602</td>\n",
       "      <td>50.40069219663891</td>\n",
       "      <td>47.50157914867205</td>\n",
       "      <td>1</td>\n",
       "      <td>98</td>\n",
       "    </tr>\n",
       "    <tr>\n",
       "      <td>diabetes</td>\n",
       "      <td>566602</td>\n",
       "      <td>2.2106328604558403</td>\n",
       "      <td>5.683522656741282</td>\n",
       "      <td>1</td>\n",
       "      <td>98</td>\n",
       "    </tr>\n",
       "    <tr>\n",
       "      <td>copd</td>\n",
       "      <td>566602</td>\n",
       "      <td>2.280221389970385</td>\n",
       "      <td>5.327832491046167</td>\n",
       "      <td>1</td>\n",
       "      <td>98</td>\n",
       "    </tr>\n",
       "    <tr>\n",
       "      <td>asthma</td>\n",
       "      <td>566602</td>\n",
       "      <td>2.2650290680230567</td>\n",
       "      <td>5.334658337099209</td>\n",
       "      <td>1</td>\n",
       "      <td>98</td>\n",
       "    </tr>\n",
       "    <tr>\n",
       "      <td>inmsupr</td>\n",
       "      <td>566602</td>\n",
       "      <td>2.3196282399285564</td>\n",
       "      <td>5.667380634852918</td>\n",
       "      <td>1</td>\n",
       "      <td>98</td>\n",
       "    </tr>\n",
       "    <tr>\n",
       "      <td>hypertension</td>\n",
       "      <td>566602</td>\n",
       "      <td>2.1457742824769417</td>\n",
       "      <td>5.459865731943896</td>\n",
       "      <td>1</td>\n",
       "      <td>98</td>\n",
       "    </tr>\n",
       "    <tr>\n",
       "      <td>other_disease</td>\n",
       "      <td>566602</td>\n",
       "      <td>2.4100303211072323</td>\n",
       "      <td>6.489959390015972</td>\n",
       "      <td>1</td>\n",
       "      <td>98</td>\n",
       "    </tr>\n",
       "    <tr>\n",
       "      <td>cardiovascular</td>\n",
       "      <td>566602</td>\n",
       "      <td>2.286156773184705</td>\n",
       "      <td>5.4384047032738305</td>\n",
       "      <td>1</td>\n",
       "      <td>98</td>\n",
       "    </tr>\n",
       "    <tr>\n",
       "      <td>obesity</td>\n",
       "      <td>566602</td>\n",
       "      <td>2.1389052633065186</td>\n",
       "      <td>5.3955778143216655</td>\n",
       "      <td>1</td>\n",
       "      <td>98</td>\n",
       "    </tr>\n",
       "    <tr>\n",
       "      <td>renal_chronic</td>\n",
       "      <td>566602</td>\n",
       "      <td>2.2837653238075406</td>\n",
       "      <td>5.39323230928228</td>\n",
       "      <td>1</td>\n",
       "      <td>98</td>\n",
       "    </tr>\n",
       "    <tr>\n",
       "      <td>tobacco</td>\n",
       "      <td>566602</td>\n",
       "      <td>2.23835955397263</td>\n",
       "      <td>5.571900516835126</td>\n",
       "      <td>1</td>\n",
       "      <td>98</td>\n",
       "    </tr>\n",
       "    <tr>\n",
       "      <td>contact_other_covid</td>\n",
       "      <td>566602</td>\n",
       "      <td>31.57303362854349</td>\n",
       "      <td>45.08212339891011</td>\n",
       "      <td>1</td>\n",
       "      <td>99</td>\n",
       "    </tr>\n",
       "    <tr>\n",
       "      <td>covid_res</td>\n",
       "      <td>566602</td>\n",
       "      <td>1.72865079897353</td>\n",
       "      <td>0.6587104609699912</td>\n",
       "      <td>1</td>\n",
       "      <td>3</td>\n",
       "    </tr>\n",
       "    <tr>\n",
       "      <td>icu</td>\n",
       "      <td>566602</td>\n",
       "      <td>76.56286423274186</td>\n",
       "      <td>39.059059875571066</td>\n",
       "      <td>1</td>\n",
       "      <td>99</td>\n",
       "    </tr>\n",
       "  </tbody>\n",
       "</table>\n",
       "</div>"
      ],
      "text/plain": [
       "                          0                   1                   2    3    4\n",
       "summary               count                mean              stddev  min  max\n",
       "sex                  566602    1.50672606167998  0.4999551992349244    1    2\n",
       "patient_type         566602  1.2151651423750711  0.4109372238196795    1    2\n",
       "intubed              566602   76.56295247810633   39.05867551766631    1   99\n",
       "pneumonia            566602   1.846262455833195  0.5609386442720459    1   99\n",
       "age                  566602   42.62248280097847  16.659972551727172    0  120\n",
       "pregnancy            566602   50.40069219663891   47.50157914867205    1   98\n",
       "diabetes             566602  2.2106328604558403   5.683522656741282    1   98\n",
       "copd                 566602   2.280221389970385   5.327832491046167    1   98\n",
       "asthma               566602  2.2650290680230567   5.334658337099209    1   98\n",
       "inmsupr              566602  2.3196282399285564   5.667380634852918    1   98\n",
       "hypertension         566602  2.1457742824769417   5.459865731943896    1   98\n",
       "other_disease        566602  2.4100303211072323   6.489959390015972    1   98\n",
       "cardiovascular       566602   2.286156773184705  5.4384047032738305    1   98\n",
       "obesity              566602  2.1389052633065186  5.3955778143216655    1   98\n",
       "renal_chronic        566602  2.2837653238075406    5.39323230928228    1   98\n",
       "tobacco              566602    2.23835955397263   5.571900516835126    1   98\n",
       "contact_other_covid  566602   31.57303362854349   45.08212339891011    1   99\n",
       "covid_res            566602    1.72865079897353  0.6587104609699912    1    3\n",
       "icu                  566602   76.56286423274186  39.059059875571066    1   99"
      ]
     },
     "execution_count": 6,
     "metadata": {},
     "output_type": "execute_result"
    }
   ],
   "source": [
    "numeric_features = [t[0] for t in df.dtypes if t[1] == 'int']\n",
    "df.select(numeric_features).describe().toPandas().transpose()"
   ]
  },
  {
   "cell_type": "code",
   "execution_count": 7,
   "metadata": {},
   "outputs": [
    {
     "name": "stdout",
     "output_type": "stream",
     "text": [
      "+----------+-----+\n",
      "| date_died|count|\n",
      "+----------+-----+\n",
      "|06-04-2020|   80|\n",
      "|05-04-2020|   56|\n",
      "|11-06-2020|  609|\n",
      "|10-02-2020|    1|\n",
      "|21-04-2020|  235|\n",
      "|17-03-2020|    2|\n",
      "|03-06-2020|  629|\n",
      "|02-05-2020|  343|\n",
      "|21-06-2020|  559|\n",
      "|01-04-2020|   48|\n",
      "|24-04-2020|  254|\n",
      "|09-04-2020|  106|\n",
      "|14-06-2020|  641|\n",
      "|26-05-2020|  576|\n",
      "|10-04-2020|  131|\n",
      "|12-05-2020|  453|\n",
      "|02-06-2020|  590|\n",
      "|12-03-2020|    1|\n",
      "|15-04-2020|  138|\n",
      "|28-06-2020|  199|\n",
      "+----------+-----+\n",
      "only showing top 20 rows\n",
      "\n"
     ]
    }
   ],
   "source": [
    "df.groupby(\"date_died\").count().show()"
   ]
  },
  {
   "cell_type": "code",
   "execution_count": 11,
   "metadata": {},
   "outputs": [
    {
     "name": "stdout",
     "output_type": "stream",
     "text": [
      "+---------+\n",
      "|date_died|\n",
      "+---------+\n",
      "|        0|\n",
      "|        0|\n",
      "|        0|\n",
      "|        0|\n",
      "|        1|\n",
      "|        1|\n",
      "|        0|\n",
      "|        0|\n",
      "|        0|\n",
      "|        0|\n",
      "|        0|\n",
      "|        0|\n",
      "|        0|\n",
      "|        0|\n",
      "|        0|\n",
      "|        0|\n",
      "|        0|\n",
      "|        0|\n",
      "|        0|\n",
      "|        0|\n",
      "+---------+\n",
      "only showing top 20 rows\n",
      "\n"
     ]
    }
   ],
   "source": [
    "\n",
    "df = df.withColumn(\"date_died\", when(df.date_died == \"9999-99-99\",\"0\").when(df.date_died != \"9999-99-99\",\"1\").otherwise(df.date_died))\n",
    "df.select(\"date_died\").show()"
   ]
  },
  {
   "cell_type": "code",
   "execution_count": 14,
   "metadata": {},
   "outputs": [],
   "source": [
    "from pyspark.sql.types import DoubleType \n",
    "df = df.withColumn(\"died\", df[\"date_died\"].cast(DoubleType()))"
   ]
  },
  {
   "cell_type": "code",
   "execution_count": 16,
   "metadata": {},
   "outputs": [
    {
     "name": "stdout",
     "output_type": "stream",
     "text": [
      "root\n",
      " |-- id: string (nullable = true)\n",
      " |-- sex: integer (nullable = true)\n",
      " |-- patient_type: integer (nullable = true)\n",
      " |-- entry_date: string (nullable = true)\n",
      " |-- date_symptoms: string (nullable = true)\n",
      " |-- date_died: string (nullable = true)\n",
      " |-- intubed: integer (nullable = true)\n",
      " |-- pneumonia: integer (nullable = true)\n",
      " |-- age: integer (nullable = true)\n",
      " |-- pregnancy: integer (nullable = true)\n",
      " |-- diabetes: integer (nullable = true)\n",
      " |-- copd: integer (nullable = true)\n",
      " |-- asthma: integer (nullable = true)\n",
      " |-- inmsupr: integer (nullable = true)\n",
      " |-- hypertension: integer (nullable = true)\n",
      " |-- other_disease: integer (nullable = true)\n",
      " |-- cardiovascular: integer (nullable = true)\n",
      " |-- obesity: integer (nullable = true)\n",
      " |-- renal_chronic: integer (nullable = true)\n",
      " |-- tobacco: integer (nullable = true)\n",
      " |-- contact_other_covid: integer (nullable = true)\n",
      " |-- covid_res: integer (nullable = true)\n",
      " |-- icu: integer (nullable = true)\n",
      " |-- died: double (nullable = true)\n",
      "\n"
     ]
    }
   ],
   "source": []
  },
  {
   "cell_type": "code",
   "execution_count": 17,
   "metadata": {},
   "outputs": [
    {
     "data": {
      "text/plain": [
       "Row(id='16169f', sex=2, patient_type=1, entry_date='04-05-2020', date_symptoms='02-05-2020', date_died='0', intubed=97, pneumonia=2, age=27, pregnancy=97, diabetes=2, copd=2, asthma=2, inmsupr=2, hypertension=2, other_disease=2, cardiovascular=2, obesity=2, renal_chronic=2, tobacco=2, contact_other_covid=2, covid_res=1, icu=97, died=0.0, vectorized_features=DenseVector([97.0, 2.0, 2.0, 2.0, 2.0, 27.0, 2.0, 2.0]))"
      ]
     },
     "execution_count": 17,
     "metadata": {},
     "output_type": "execute_result"
    }
   ],
   "source": [
    "from pyspark.ml.feature import OneHotEncoder, StringIndexer, VectorAssembler,StandardScaler\n",
    "# encoder = OneHotEncoder().setInputCols([\"intubed\"]).setOutputCols([\"intubed_encoded\"])\n",
    "\n",
    "# encoder_model=encoder.fit(Age_udfIndex_df)\n",
    "# encoder_df=encoder_model.transform(Age_udfIndex_df)\n",
    "\n",
    "# encoder_df.toPandas().head()\n",
    "\n",
    "assembler = VectorAssembler().setInputCols([\"intubed\", \"diabetes\", \"asthma\",\"obesity\",\"tobacco\",\"age\", \"hypertension\", \"other_disease\"]).setOutputCol(\"vectorized_features\")\n",
    "        \n",
    "\n",
    "assembler_df=assembler.transform(df)\n",
    "assembler_df.head()"
   ]
  },
  {
   "cell_type": "code",
   "execution_count": 18,
   "metadata": {},
   "outputs": [
    {
     "data": {
      "text/html": [
       "<div>\n",
       "<style scoped>\n",
       "    .dataframe tbody tr th:only-of-type {\n",
       "        vertical-align: middle;\n",
       "    }\n",
       "\n",
       "    .dataframe tbody tr th {\n",
       "        vertical-align: top;\n",
       "    }\n",
       "\n",
       "    .dataframe thead th {\n",
       "        text-align: right;\n",
       "    }\n",
       "</style>\n",
       "<table border=\"1\" class=\"dataframe\">\n",
       "  <thead>\n",
       "    <tr style=\"text-align: right;\">\n",
       "      <th></th>\n",
       "      <th>died</th>\n",
       "      <th>label</th>\n",
       "    </tr>\n",
       "  </thead>\n",
       "  <tbody>\n",
       "    <tr>\n",
       "      <td>0</td>\n",
       "      <td>0.0</td>\n",
       "      <td>0.0</td>\n",
       "    </tr>\n",
       "    <tr>\n",
       "      <td>1</td>\n",
       "      <td>0.0</td>\n",
       "      <td>0.0</td>\n",
       "    </tr>\n",
       "    <tr>\n",
       "      <td>2</td>\n",
       "      <td>0.0</td>\n",
       "      <td>0.0</td>\n",
       "    </tr>\n",
       "    <tr>\n",
       "      <td>3</td>\n",
       "      <td>0.0</td>\n",
       "      <td>0.0</td>\n",
       "    </tr>\n",
       "    <tr>\n",
       "      <td>4</td>\n",
       "      <td>1.0</td>\n",
       "      <td>1.0</td>\n",
       "    </tr>\n",
       "  </tbody>\n",
       "</table>\n",
       "</div>"
      ],
      "text/plain": [
       "   died  label\n",
       "0   0.0    0.0\n",
       "1   0.0    0.0\n",
       "2   0.0    0.0\n",
       "3   0.0    0.0\n",
       "4   1.0    1.0"
      ]
     },
     "execution_count": 18,
     "metadata": {},
     "output_type": "execute_result"
    }
   ],
   "source": [
    "label_indexer = StringIndexer()\\\n",
    "         .setInputCol (\"died\")\\\n",
    "         .setOutputCol (\"label\")\n",
    "\n",
    "label_indexer_model=label_indexer.fit(assembler_df)\n",
    "label_indexer_df=label_indexer_model.transform(assembler_df)\n",
    "\n",
    "label_indexer_df.select(\"died\",\"label\").toPandas().head()"
   ]
  },
  {
   "cell_type": "code",
   "execution_count": 20,
   "metadata": {},
   "outputs": [
    {
     "data": {
      "text/plain": [
       "[Row(vectorized_features=DenseVector([97.0, 2.0, 2.0, 2.0, 2.0, 27.0, 2.0, 2.0]), features=DenseVector([2.4834, 0.3519, 0.3749, 0.3707, 0.3589, 1.6207, 0.3663, 0.3082])),\n",
       " Row(vectorized_features=DenseVector([97.0, 2.0, 2.0, 2.0, 2.0, 24.0, 2.0, 2.0]), features=DenseVector([2.4834, 0.3519, 0.3749, 0.3707, 0.3589, 1.4406, 0.3663, 0.3082])),\n",
       " Row(vectorized_features=DenseVector([2.0, 2.0, 2.0, 1.0, 2.0, 54.0, 2.0, 2.0]), features=DenseVector([0.0512, 0.3519, 0.3749, 0.1853, 0.3589, 3.2413, 0.3663, 0.3082])),\n",
       " Row(vectorized_features=DenseVector([2.0, 2.0, 2.0, 2.0, 2.0, 30.0, 2.0, 2.0]), features=DenseVector([0.0512, 0.3519, 0.3749, 0.3707, 0.3589, 1.8007, 0.3663, 0.3082])),\n",
       " Row(vectorized_features=DenseVector([2.0, 1.0, 2.0, 2.0, 2.0, 60.0, 1.0, 2.0]), features=DenseVector([0.0512, 0.1759, 0.3749, 0.3707, 0.3589, 3.6014, 0.1832, 0.3082]))]"
      ]
     },
     "execution_count": 20,
     "metadata": {},
     "output_type": "execute_result"
    }
   ],
   "source": [
    "import pandas as pd\n",
    "scaler = StandardScaler()\\\n",
    "         .setInputCol (\"vectorized_features\")\\\n",
    "         .setOutputCol (\"features\")\n",
    "        \n",
    "scaler_model=scaler.fit(label_indexer_df)\n",
    "scaler_df=scaler_model.transform(label_indexer_df)\n",
    "pd.set_option('display.max_colwidth', 40)\n",
    "scaler_df.select(\"vectorized_features\",\"features\").head(5)"
   ]
  },
  {
   "cell_type": "code",
   "execution_count": 22,
   "metadata": {},
   "outputs": [
    {
     "name": "stdout",
     "output_type": "stream",
     "text": [
      "Training Dataset Count: 481341\n",
      "Test Dataset Count: 85261\n"
     ]
    }
   ],
   "source": [
    "train, test = scaler_df.randomSplit([0.85, 0.15], seed = 2018)\n",
    "print(\"Training Dataset Count: \" + str(train.count()))\n",
    "print(\"Test Dataset Count: \" + str(test.count()))"
   ]
  },
  {
   "cell_type": "code",
   "execution_count": 23,
   "metadata": {},
   "outputs": [
    {
     "data": {
      "text/html": [
       "<div>\n",
       "<style scoped>\n",
       "    .dataframe tbody tr th:only-of-type {\n",
       "        vertical-align: middle;\n",
       "    }\n",
       "\n",
       "    .dataframe tbody tr th {\n",
       "        vertical-align: top;\n",
       "    }\n",
       "\n",
       "    .dataframe thead th {\n",
       "        text-align: right;\n",
       "    }\n",
       "</style>\n",
       "<table border=\"1\" class=\"dataframe\">\n",
       "  <thead>\n",
       "    <tr style=\"text-align: right;\">\n",
       "      <th></th>\n",
       "      <th>label</th>\n",
       "      <th>features</th>\n",
       "      <th>rawPrediction</th>\n",
       "      <th>prediction</th>\n",
       "      <th>probability</th>\n",
       "    </tr>\n",
       "  </thead>\n",
       "  <tbody>\n",
       "    <tr>\n",
       "      <td>0</td>\n",
       "      <td>0.0</td>\n",
       "      <td>[2.483443145841612, 0.35189443603744...</td>\n",
       "      <td>[5.537113583168972, -5.537113583168972]</td>\n",
       "      <td>0.0</td>\n",
       "      <td>[0.9960775692451396, 0.0039224307548...</td>\n",
       "    </tr>\n",
       "    <tr>\n",
       "      <td>1</td>\n",
       "      <td>0.0</td>\n",
       "      <td>[2.483443145841612, 0.35189443603744...</td>\n",
       "      <td>[5.404126384454103, -5.404126384454103]</td>\n",
       "      <td>0.0</td>\n",
       "      <td>[0.9955221590564124, 0.0044778409435...</td>\n",
       "    </tr>\n",
       "    <tr>\n",
       "      <td>2</td>\n",
       "      <td>0.0</td>\n",
       "      <td>[2.483443145841612, 0.35189443603744...</td>\n",
       "      <td>[5.0279663531554455, -5.027966353155...</td>\n",
       "      <td>0.0</td>\n",
       "      <td>[0.9934905291131187, 0.0065094708868...</td>\n",
       "    </tr>\n",
       "    <tr>\n",
       "      <td>3</td>\n",
       "      <td>0.0</td>\n",
       "      <td>[2.483443145841612, 0.35189443603744...</td>\n",
       "      <td>[4.649517357998439, -4.649517357998439]</td>\n",
       "      <td>0.0</td>\n",
       "      <td>[0.9905244275158027, 0.0094755724841...</td>\n",
       "    </tr>\n",
       "    <tr>\n",
       "      <td>4</td>\n",
       "      <td>1.0</td>\n",
       "      <td>[0.0512050133163219, 0.1759472180187...</td>\n",
       "      <td>[1.20717836547035, -1.20717836547035]</td>\n",
       "      <td>0.0</td>\n",
       "      <td>[0.7697993125933869, 0.2302006874066...</td>\n",
       "    </tr>\n",
       "  </tbody>\n",
       "</table>\n",
       "</div>"
      ],
      "text/plain": [
       "   label                                 features  \\\n",
       "0    0.0  [2.483443145841612, 0.35189443603744...   \n",
       "1    0.0  [2.483443145841612, 0.35189443603744...   \n",
       "2    0.0  [2.483443145841612, 0.35189443603744...   \n",
       "3    0.0  [2.483443145841612, 0.35189443603744...   \n",
       "4    1.0  [0.0512050133163219, 0.1759472180187...   \n",
       "\n",
       "                             rawPrediction  prediction  \\\n",
       "0  [5.537113583168972, -5.537113583168972]         0.0   \n",
       "1  [5.404126384454103, -5.404126384454103]         0.0   \n",
       "2  [5.0279663531554455, -5.027966353155...         0.0   \n",
       "3  [4.649517357998439, -4.649517357998439]         0.0   \n",
       "4    [1.20717836547035, -1.20717836547035]         0.0   \n",
       "\n",
       "                               probability  \n",
       "0  [0.9960775692451396, 0.0039224307548...  \n",
       "1  [0.9955221590564124, 0.0044778409435...  \n",
       "2  [0.9934905291131187, 0.0065094708868...  \n",
       "3  [0.9905244275158027, 0.0094755724841...  \n",
       "4  [0.7697993125933869, 0.2302006874066...  "
      ]
     },
     "execution_count": 23,
     "metadata": {},
     "output_type": "execute_result"
    }
   ],
   "source": [
    "from pyspark.ml.classification import LogisticRegression\n",
    "lr = LogisticRegression(featuresCol = 'features', labelCol = 'label', maxIter=10)\n",
    "lrModel = lr.fit(train)\n",
    "predictions = lrModel.transform(test)\n",
    "predictions.select('label', 'features',  'rawPrediction', 'prediction', 'probability').toPandas().head(5)"
   ]
  },
  {
   "cell_type": "code",
   "execution_count": 24,
   "metadata": {},
   "outputs": [
    {
     "name": "stdout",
     "output_type": "stream",
     "text": [
      "Accuracy :  0.934354511441339\n",
      "RandomForestClassifier: accuracy,precision,recall, f 0.934354511441339 0.9380402437296301 0.99561332046574 0.9659696846252532\n"
     ]
    }
   ],
   "source": [
    "from pyspark.mllib.evaluation import MulticlassMetrics\n",
    "accuracy = predictions.filter(predictions.label == predictions.prediction).count() / float(predictions.count())\n",
    "print(\"Accuracy : \", accuracy)\n",
    "# Compute raw scores on the test set\n",
    "from pyspark.mllib.evaluation import MulticlassMetrics\n",
    "\n",
    "#generate model on splited dataset\n",
    "\n",
    "results = predictions.select(['prediction', 'label'])\n",
    "predictionAndLabels=results.rdd\n",
    "metrics = MulticlassMetrics(predictionAndLabels)\n",
    "\n",
    "cm=metrics.confusionMatrix().toArray()\n",
    "accuracy=(cm[0][0]+cm[1][1])/cm.sum()\n",
    "precision=(cm[0][0])/(cm[0][0]+cm[1][0])\n",
    "recall=(cm[0][0])/(cm[0][0]+cm[0][1])\n",
    "f = (2* precision * recall)/(precision+recall)\n",
    "print(\"RandomForestClassifier: accuracy,precision,recall, f\",accuracy,precision,recall, f)"
   ]
  },
  {
   "cell_type": "code",
   "execution_count": 25,
   "metadata": {},
   "outputs": [
    {
     "name": "stdout",
     "output_type": "stream",
     "text": [
      "RandomForestClassifier: accuracy,precision,recall, f 0.935797140544915 0.935797140544915 1.0 0.9668338907469343\n"
     ]
    }
   ],
   "source": [
    "from pyspark.ml.classification import LinearSVC\n",
    "lsvc = LinearSVC(maxIter=20, \\\n",
    "                 regParam=0.1, \\\n",
    "                 featuresCol=\"features\", \\\n",
    "                 labelCol='label')\n",
    "from pyspark.ml import Pipeline\n",
    "pipeline_lsvc = Pipeline(stages=[lsvc])\n",
    "pipelineModel_lsvc = pipeline_lsvc.fit(train)\n",
    "predDF_lsvc = pipelineModel_lsvc.transform(test)\n",
    "results = predDF_lsvc.select(['prediction', 'label'])\n",
    "predictionAndLabels=results.rdd\n",
    "metrics = MulticlassMetrics(predictionAndLabels)\n",
    "\n",
    "cm=metrics.confusionMatrix().toArray()\n",
    "accuracy=(cm[0][0]+cm[1][1])/cm.sum()\n",
    "precision=(cm[0][0])/(cm[0][0]+cm[1][0])\n",
    "recall=(cm[0][0])/(cm[0][0]+cm[0][1])\n",
    "f = (2* precision * recall)/(precision+recall)\n",
    "print(\"RandomForestClassifier: accuracy,precision,recall, f\",accuracy,precision,recall, f)"
   ]
  },
  {
   "cell_type": "code",
   "execution_count": 26,
   "metadata": {},
   "outputs": [
    {
     "data": {
      "text/plain": [
       "<Figure size 640x480 with 1 Axes>"
      ]
     },
     "metadata": {},
     "output_type": "display_data"
    },
    {
     "name": "stdout",
     "output_type": "stream",
     "text": [
      "Training set areaUnderROC: 0.9191311349341746\n"
     ]
    }
   ],
   "source": [
    "import matplotlib.pyplot as plt\n",
    "trainingSummary = lrModel.summary\n",
    "roc = trainingSummary.roc.toPandas()\n",
    "plt.plot(roc['FPR'],roc['TPR'])\n",
    "plt.ylabel('False Positive Rate')\n",
    "plt.xlabel('True Positive Rate')\n",
    "plt.title('ROC Curve')\n",
    "plt.show()\n",
    "print('Training set areaUnderROC: ' + str(trainingSummary.areaUnderROC))"
   ]
  },
  {
   "cell_type": "code",
   "execution_count": 27,
   "metadata": {},
   "outputs": [
    {
     "name": "stdout",
     "output_type": "stream",
     "text": [
      "+-------+---------+--------+------+-------+-------+---+-----+--------------------+----------+--------------------+\n",
      "|intubed|pregnancy|diabetes|asthma|obesity|tobacco|age|label|       rawPrediction|prediction|         probability|\n",
      "+-------+---------+--------+------+-------+-------+---+-----+--------------------+----------+--------------------+\n",
      "|     97|        2|       2|     2|      2|      2| 23|  0.0|[5.53711358316897...|       0.0|[0.99607756924513...|\n",
      "|     97|        2|       2|     2|      1|      2| 27|  0.0|[5.40412638445410...|       0.0|[0.99552215905641...|\n",
      "|     97|        2|       2|     2|      1|      1| 38|  0.0|[5.02796635315544...|       0.0|[0.99349052911311...|\n",
      "|     97|        2|       2|     2|      2|      2| 49|  0.0|[4.64951735799843...|       0.0|[0.99052442751580...|\n",
      "|      2|        2|       1|     2|      1|      2| 49|  1.0|[1.20717836547035...|       0.0|[0.76979931259338...|\n",
      "|      2|        2|       2|     2|      2|      2| 34|  0.0|[1.71970358729868...|       0.0|[0.84809065257617...|\n",
      "|      2|        2|       2|     2|      1|      2| 53|  0.0|[1.07464164329312...|       0.0|[0.74547862541885...|\n",
      "|     97|       97|       1|     2|      2|      2| 63|  0.0|[4.16376633202804...|       0.0|[0.98468918093402...|\n",
      "|     97|       97|       2|     2|      2|      1| 47|  0.0|[4.72095349308384...|       0.0|[0.99117194662574...|\n",
      "|      2|       97|       2|     2|      2|      2| 75|  0.0|[0.32003261683745...|       0.0|[0.57933220110141...|\n",
      "+-------+---------+--------+------+-------+-------+---+-----+--------------------+----------+--------------------+\n",
      "only showing top 10 rows\n",
      "\n"
     ]
    }
   ],
   "source": [
    "predictions.select(\"intubed\",\"pregnancy\",\"diabetes\", \"asthma\",\"obesity\",\"tobacco\",\"age\", 'label', 'rawPrediction', 'prediction', 'probability').show(10)"
   ]
  },
  {
   "cell_type": "code",
   "execution_count": null,
   "metadata": {},
   "outputs": [],
   "source": []
  }
 ],
 "metadata": {
  "kernelspec": {
   "display_name": "Python 3",
   "language": "python",
   "name": "python3"
  },
  "language_info": {
   "codemirror_mode": {
    "name": "ipython",
    "version": 3
   },
   "file_extension": ".py",
   "mimetype": "text/x-python",
   "name": "python",
   "nbconvert_exporter": "python",
   "pygments_lexer": "ipython3",
   "version": "3.7.4"
  }
 },
 "nbformat": 4,
 "nbformat_minor": 2
}
